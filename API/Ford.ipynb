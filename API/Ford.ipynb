{
 "cells": [
  {
   "cell_type": "code",
   "execution_count": 2,
   "metadata": {},
   "outputs": [],
   "source": [
    "#Import Dependencies\n",
    "from alpha_vantage.timeseries import TimeSeries\n",
    "from API_key import api_key\n",
    "import pandas as pd\n",
    "import requests"
   ]
  },
  {
   "cell_type": "code",
   "execution_count": 3,
   "metadata": {},
   "outputs": [],
   "source": [
    "#URL Basics\n",
    "API_URL = \"https://www.alphavantage.co/query\" \n",
    "symbol = 'F'"
   ]
  },
  {
   "cell_type": "code",
   "execution_count": 4,
   "metadata": {},
   "outputs": [],
   "source": [
    "#Data Extraction\n",
    "data = { \"function\": \"TIME_SERIES_DAILY\", \n",
    "    \"symbol\": symbol,\n",
    "    \"outputsize\" : \"full\",\n",
    "    \"datatype\": \"json\", \n",
    "    \"apikey\": \"api_key\" } "
   ]
  },
  {
   "cell_type": "code",
   "execution_count": 5,
   "metadata": {},
   "outputs": [],
   "source": [
    "#URL Response JSON\n",
    "response = requests.get(API_URL, data) \n",
    "response_json = response.json() "
   ]
  },
  {
   "cell_type": "code",
   "execution_count": 7,
   "metadata": {},
   "outputs": [
    {
     "data": {
      "text/html": [
       "<div>\n",
       "<style scoped>\n",
       "    .dataframe tbody tr th:only-of-type {\n",
       "        vertical-align: middle;\n",
       "    }\n",
       "\n",
       "    .dataframe tbody tr th {\n",
       "        vertical-align: top;\n",
       "    }\n",
       "\n",
       "    .dataframe thead th {\n",
       "        text-align: right;\n",
       "    }\n",
       "</style>\n",
       "<table border=\"1\" class=\"dataframe\">\n",
       "  <thead>\n",
       "    <tr style=\"text-align: right;\">\n",
       "      <th></th>\n",
       "      <th>1. open</th>\n",
       "      <th>2. high</th>\n",
       "      <th>3. low</th>\n",
       "      <th>4. close</th>\n",
       "      <th>5. volume</th>\n",
       "    </tr>\n",
       "  </thead>\n",
       "  <tbody>\n",
       "    <tr>\n",
       "      <th>2021-02-12</th>\n",
       "      <td>11.4200</td>\n",
       "      <td>11.6200</td>\n",
       "      <td>11.3700</td>\n",
       "      <td>11.4500</td>\n",
       "      <td>44401187</td>\n",
       "    </tr>\n",
       "    <tr>\n",
       "      <th>2021-02-11</th>\n",
       "      <td>11.6600</td>\n",
       "      <td>11.7400</td>\n",
       "      <td>11.3100</td>\n",
       "      <td>11.4500</td>\n",
       "      <td>55762914</td>\n",
       "    </tr>\n",
       "    <tr>\n",
       "      <th>2021-02-10</th>\n",
       "      <td>12.0000</td>\n",
       "      <td>12.0200</td>\n",
       "      <td>11.5300</td>\n",
       "      <td>11.7600</td>\n",
       "      <td>75542190</td>\n",
       "    </tr>\n",
       "    <tr>\n",
       "      <th>2021-02-09</th>\n",
       "      <td>11.5400</td>\n",
       "      <td>12.0400</td>\n",
       "      <td>11.4900</td>\n",
       "      <td>11.9300</td>\n",
       "      <td>101531642</td>\n",
       "    </tr>\n",
       "    <tr>\n",
       "      <th>2021-02-08</th>\n",
       "      <td>11.5200</td>\n",
       "      <td>11.5800</td>\n",
       "      <td>11.3100</td>\n",
       "      <td>11.5600</td>\n",
       "      <td>75756688</td>\n",
       "    </tr>\n",
       "  </tbody>\n",
       "</table>\n",
       "</div>"
      ],
      "text/plain": [
       "            1. open  2. high   3. low 4. close  5. volume\n",
       "2021-02-12  11.4200  11.6200  11.3700  11.4500   44401187\n",
       "2021-02-11  11.6600  11.7400  11.3100  11.4500   55762914\n",
       "2021-02-10  12.0000  12.0200  11.5300  11.7600   75542190\n",
       "2021-02-09  11.5400  12.0400  11.4900  11.9300  101531642\n",
       "2021-02-08  11.5200  11.5800  11.3100  11.5600   75756688"
      ]
     },
     "execution_count": 7,
     "metadata": {},
     "output_type": "execute_result"
    }
   ],
   "source": [
    "#Pandas DataFraming\n",
    "df = pd.DataFrame.from_dict(response_json['Time Series (Daily)'], orient= 'index').sort_index(axis=1)\n",
    "df.head()"
   ]
  },
  {
   "cell_type": "code",
   "execution_count": 8,
   "metadata": {},
   "outputs": [],
   "source": [
    "df.to_csv('Ford_all.csv')"
   ]
  },
  {
   "cell_type": "code",
   "execution_count": null,
   "metadata": {},
   "outputs": [],
   "source": []
  }
 ],
 "metadata": {
  "kernelspec": {
   "display_name": "Python 3",
   "language": "python",
   "name": "python3"
  },
  "language_info": {
   "codemirror_mode": {
    "name": "ipython",
    "version": 3
   },
   "file_extension": ".py",
   "mimetype": "text/x-python",
   "name": "python",
   "nbconvert_exporter": "python",
   "pygments_lexer": "ipython3",
   "version": "3.8.5"
  }
 },
 "nbformat": 4,
 "nbformat_minor": 4
}
