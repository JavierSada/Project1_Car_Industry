{
 "cells": [
  {
   "cell_type": "code",
   "execution_count": 47,
   "metadata": {},
   "outputs": [],
   "source": [
    "#Import Dependencies\n",
    "from alpha_vantage.timeseries import TimeSeries\n",
    "from API_key import api_key\n",
    "import pandas as pd\n",
    "import requests\n",
    "import matplotlib.pyplot as plt"
   ]
  },
  {
   "cell_type": "code",
   "execution_count": 23,
   "metadata": {},
   "outputs": [],
   "source": [
    "#URL Basics\n",
    "API_URL = \"https://www.alphavantage.co/query\" \n",
    "symbol = 'GM'"
   ]
  },
  {
   "cell_type": "code",
   "execution_count": 24,
   "metadata": {},
   "outputs": [],
   "source": [
    "#Data Extraction\n",
    "data = { \"function\": \"TIME_SERIES_DAILY\", \n",
    "    \"symbol\": symbol,\n",
    "    \"outputsize\" : \"full\",\n",
    "    \"datatype\": \"json\", \n",
    "    \"apikey\": \"api_key\" } "
   ]
  },
  {
   "cell_type": "code",
   "execution_count": 25,
   "metadata": {},
   "outputs": [],
   "source": [
    "#URL Response JSON\n",
    "response = requests.get(API_URL, data) \n",
    "response_json = response.json() "
   ]
  },
  {
   "cell_type": "code",
   "execution_count": 37,
   "metadata": {},
   "outputs": [
    {
     "data": {
      "text/html": [
       "<div>\n",
       "<style scoped>\n",
       "    .dataframe tbody tr th:only-of-type {\n",
       "        vertical-align: middle;\n",
       "    }\n",
       "\n",
       "    .dataframe tbody tr th {\n",
       "        vertical-align: top;\n",
       "    }\n",
       "\n",
       "    .dataframe thead th {\n",
       "        text-align: right;\n",
       "    }\n",
       "</style>\n",
       "<table border=\"1\" class=\"dataframe\">\n",
       "  <thead>\n",
       "    <tr style=\"text-align: right;\">\n",
       "      <th></th>\n",
       "      <th>1. open</th>\n",
       "      <th>2. high</th>\n",
       "      <th>3. low</th>\n",
       "      <th>4. close</th>\n",
       "      <th>5. volume</th>\n",
       "    </tr>\n",
       "  </thead>\n",
       "  <tbody>\n",
       "    <tr>\n",
       "      <th>2021-02-12</th>\n",
       "      <td>53.0000</td>\n",
       "      <td>54.1900</td>\n",
       "      <td>52.9600</td>\n",
       "      <td>53.6000</td>\n",
       "      <td>15317421</td>\n",
       "    </tr>\n",
       "    <tr>\n",
       "      <th>2021-02-11</th>\n",
       "      <td>53.6100</td>\n",
       "      <td>53.8000</td>\n",
       "      <td>52.3500</td>\n",
       "      <td>53.5000</td>\n",
       "      <td>29871445</td>\n",
       "    </tr>\n",
       "    <tr>\n",
       "      <th>2021-02-10</th>\n",
       "      <td>55.6100</td>\n",
       "      <td>55.6900</td>\n",
       "      <td>52.5100</td>\n",
       "      <td>54.8800</td>\n",
       "      <td>55046641</td>\n",
       "    </tr>\n",
       "    <tr>\n",
       "      <th>2021-02-09</th>\n",
       "      <td>56.5400</td>\n",
       "      <td>56.9400</td>\n",
       "      <td>55.7350</td>\n",
       "      <td>56.0600</td>\n",
       "      <td>24623982</td>\n",
       "    </tr>\n",
       "    <tr>\n",
       "      <th>2021-02-08</th>\n",
       "      <td>56.0000</td>\n",
       "      <td>57.0500</td>\n",
       "      <td>55.6700</td>\n",
       "      <td>56.8800</td>\n",
       "      <td>26989995</td>\n",
       "    </tr>\n",
       "    <tr>\n",
       "      <th>...</th>\n",
       "      <td>...</td>\n",
       "      <td>...</td>\n",
       "      <td>...</td>\n",
       "      <td>...</td>\n",
       "      <td>...</td>\n",
       "    </tr>\n",
       "    <tr>\n",
       "      <th>2010-11-24</th>\n",
       "      <td>33.7300</td>\n",
       "      <td>33.8000</td>\n",
       "      <td>33.2200</td>\n",
       "      <td>33.4800</td>\n",
       "      <td>26138000</td>\n",
       "    </tr>\n",
       "    <tr>\n",
       "      <th>2010-11-23</th>\n",
       "      <td>33.9500</td>\n",
       "      <td>33.9900</td>\n",
       "      <td>33.1900</td>\n",
       "      <td>33.2500</td>\n",
       "      <td>31170200</td>\n",
       "    </tr>\n",
       "    <tr>\n",
       "      <th>2010-11-22</th>\n",
       "      <td>34.2000</td>\n",
       "      <td>34.4800</td>\n",
       "      <td>33.8100</td>\n",
       "      <td>34.0800</td>\n",
       "      <td>36650600</td>\n",
       "    </tr>\n",
       "    <tr>\n",
       "      <th>2010-11-19</th>\n",
       "      <td>34.1500</td>\n",
       "      <td>34.5000</td>\n",
       "      <td>33.1100</td>\n",
       "      <td>34.2600</td>\n",
       "      <td>107842000</td>\n",
       "    </tr>\n",
       "    <tr>\n",
       "      <th>2010-11-18</th>\n",
       "      <td>35.0000</td>\n",
       "      <td>35.9900</td>\n",
       "      <td>33.8900</td>\n",
       "      <td>34.1900</td>\n",
       "      <td>457044300</td>\n",
       "    </tr>\n",
       "  </tbody>\n",
       "</table>\n",
       "<p>2576 rows × 5 columns</p>\n",
       "</div>"
      ],
      "text/plain": [
       "            1. open  2. high   3. low 4. close  5. volume\n",
       "2021-02-12  53.0000  54.1900  52.9600  53.6000   15317421\n",
       "2021-02-11  53.6100  53.8000  52.3500  53.5000   29871445\n",
       "2021-02-10  55.6100  55.6900  52.5100  54.8800   55046641\n",
       "2021-02-09  56.5400  56.9400  55.7350  56.0600   24623982\n",
       "2021-02-08  56.0000  57.0500  55.6700  56.8800   26989995\n",
       "...             ...      ...      ...      ...        ...\n",
       "2010-11-24  33.7300  33.8000  33.2200  33.4800   26138000\n",
       "2010-11-23  33.9500  33.9900  33.1900  33.2500   31170200\n",
       "2010-11-22  34.2000  34.4800  33.8100  34.0800   36650600\n",
       "2010-11-19  34.1500  34.5000  33.1100  34.2600  107842000\n",
       "2010-11-18  35.0000  35.9900  33.8900  34.1900  457044300\n",
       "\n",
       "[2576 rows x 5 columns]"
      ]
     },
     "execution_count": 37,
     "metadata": {},
     "output_type": "execute_result"
    }
   ],
   "source": [
    "#Pandas DataFraming\n",
    "df = pd.DataFrame.from_dict(response_json['Time Series (Daily)'], orient= 'index').sort_index(axis=1)\n",
    "df"
   ]
  },
  {
   "cell_type": "code",
   "execution_count": 39,
   "metadata": {},
   "outputs": [],
   "source": [
    "df.to_csv('GM_all.csv')"
   ]
  }
 ],
 "metadata": {
  "kernelspec": {
   "display_name": "Python 3",
   "language": "python",
   "name": "python3"
  },
  "language_info": {
   "codemirror_mode": {
    "name": "ipython",
    "version": 3
   },
   "file_extension": ".py",
   "mimetype": "text/x-python",
   "name": "python",
   "nbconvert_exporter": "python",
   "pygments_lexer": "ipython3",
   "version": "3.8.5"
  }
 },
 "nbformat": 4,
 "nbformat_minor": 4
}
