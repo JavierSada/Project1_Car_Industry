{
 "cells": [
  {
   "cell_type": "code",
   "execution_count": 1,
   "metadata": {},
   "outputs": [],
   "source": [
    "#Import Dependencies\n",
    "from alpha_vantage.timeseries import TimeSeries\n",
    "from API_key import api_key\n",
    "import pandas as pd\n",
    "import requests"
   ]
  },
  {
   "cell_type": "code",
   "execution_count": 2,
   "metadata": {},
   "outputs": [],
   "source": [
    "#URL Basics\n",
    "API_URL = \"https://www.alphavantage.co/query\" \n",
    "symbol = 'NSANY'"
   ]
  },
  {
   "cell_type": "code",
   "execution_count": 3,
   "metadata": {},
   "outputs": [],
   "source": [
    "#Data Extraction\n",
    "data = { \"function\": \"TIME_SERIES_DAILY\", \n",
    "    \"symbol\": symbol,\n",
    "    \"outputsize\" : \"full\",\n",
    "    \"datatype\": \"json\", \n",
    "    \"apikey\": \"api_key\" } "
   ]
  },
  {
   "cell_type": "code",
   "execution_count": 4,
   "metadata": {},
   "outputs": [],
   "source": [
    "#URL Response JSON\n",
    "response = requests.get(API_URL, data) \n",
    "response_json = response.json() "
   ]
  },
  {
   "cell_type": "code",
   "execution_count": 5,
   "metadata": {},
   "outputs": [
    {
     "data": {
      "text/html": [
       "<div>\n",
       "<style scoped>\n",
       "    .dataframe tbody tr th:only-of-type {\n",
       "        vertical-align: middle;\n",
       "    }\n",
       "\n",
       "    .dataframe tbody tr th {\n",
       "        vertical-align: top;\n",
       "    }\n",
       "\n",
       "    .dataframe thead th {\n",
       "        text-align: right;\n",
       "    }\n",
       "</style>\n",
       "<table border=\"1\" class=\"dataframe\">\n",
       "  <thead>\n",
       "    <tr style=\"text-align: right;\">\n",
       "      <th></th>\n",
       "      <th>1. open</th>\n",
       "      <th>2. high</th>\n",
       "      <th>3. low</th>\n",
       "      <th>4. close</th>\n",
       "      <th>5. volume</th>\n",
       "    </tr>\n",
       "  </thead>\n",
       "  <tbody>\n",
       "    <tr>\n",
       "      <th>2021-02-12</th>\n",
       "      <td>12.1425</td>\n",
       "      <td>12.1900</td>\n",
       "      <td>12.0200</td>\n",
       "      <td>12.1000</td>\n",
       "      <td>129496</td>\n",
       "    </tr>\n",
       "    <tr>\n",
       "      <th>2021-02-11</th>\n",
       "      <td>12.3000</td>\n",
       "      <td>12.7400</td>\n",
       "      <td>12.3000</td>\n",
       "      <td>12.5800</td>\n",
       "      <td>118621</td>\n",
       "    </tr>\n",
       "    <tr>\n",
       "      <th>2021-02-10</th>\n",
       "      <td>12.4100</td>\n",
       "      <td>12.5200</td>\n",
       "      <td>12.3100</td>\n",
       "      <td>12.4600</td>\n",
       "      <td>152769</td>\n",
       "    </tr>\n",
       "    <tr>\n",
       "      <th>2021-02-09</th>\n",
       "      <td>12.0400</td>\n",
       "      <td>12.2600</td>\n",
       "      <td>12.0400</td>\n",
       "      <td>12.2600</td>\n",
       "      <td>237790</td>\n",
       "    </tr>\n",
       "    <tr>\n",
       "      <th>2021-02-08</th>\n",
       "      <td>12.0000</td>\n",
       "      <td>12.0800</td>\n",
       "      <td>11.8500</td>\n",
       "      <td>12.0150</td>\n",
       "      <td>97228</td>\n",
       "    </tr>\n",
       "    <tr>\n",
       "      <th>...</th>\n",
       "      <td>...</td>\n",
       "      <td>...</td>\n",
       "      <td>...</td>\n",
       "      <td>...</td>\n",
       "      <td>...</td>\n",
       "    </tr>\n",
       "    <tr>\n",
       "      <th>2009-08-07</th>\n",
       "      <td>14.3100</td>\n",
       "      <td>14.6700</td>\n",
       "      <td>14.3100</td>\n",
       "      <td>14.5600</td>\n",
       "      <td>260810</td>\n",
       "    </tr>\n",
       "    <tr>\n",
       "      <th>2009-08-06</th>\n",
       "      <td>14.6000</td>\n",
       "      <td>14.7300</td>\n",
       "      <td>14.5500</td>\n",
       "      <td>14.6200</td>\n",
       "      <td>503604</td>\n",
       "    </tr>\n",
       "    <tr>\n",
       "      <th>2009-08-05</th>\n",
       "      <td>14.2500</td>\n",
       "      <td>14.4000</td>\n",
       "      <td>14.2100</td>\n",
       "      <td>14.2900</td>\n",
       "      <td>518255</td>\n",
       "    </tr>\n",
       "    <tr>\n",
       "      <th>2009-08-04</th>\n",
       "      <td>14.8000</td>\n",
       "      <td>14.8000</td>\n",
       "      <td>14.5000</td>\n",
       "      <td>14.5400</td>\n",
       "      <td>421751</td>\n",
       "    </tr>\n",
       "    <tr>\n",
       "      <th>2009-08-03</th>\n",
       "      <td>15.3500</td>\n",
       "      <td>15.6500</td>\n",
       "      <td>15.2000</td>\n",
       "      <td>15.4500</td>\n",
       "      <td>310303</td>\n",
       "    </tr>\n",
       "  </tbody>\n",
       "</table>\n",
       "<p>2897 rows × 5 columns</p>\n",
       "</div>"
      ],
      "text/plain": [
       "            1. open  2. high   3. low 4. close 5. volume\n",
       "2021-02-12  12.1425  12.1900  12.0200  12.1000    129496\n",
       "2021-02-11  12.3000  12.7400  12.3000  12.5800    118621\n",
       "2021-02-10  12.4100  12.5200  12.3100  12.4600    152769\n",
       "2021-02-09  12.0400  12.2600  12.0400  12.2600    237790\n",
       "2021-02-08  12.0000  12.0800  11.8500  12.0150     97228\n",
       "...             ...      ...      ...      ...       ...\n",
       "2009-08-07  14.3100  14.6700  14.3100  14.5600    260810\n",
       "2009-08-06  14.6000  14.7300  14.5500  14.6200    503604\n",
       "2009-08-05  14.2500  14.4000  14.2100  14.2900    518255\n",
       "2009-08-04  14.8000  14.8000  14.5000  14.5400    421751\n",
       "2009-08-03  15.3500  15.6500  15.2000  15.4500    310303\n",
       "\n",
       "[2897 rows x 5 columns]"
      ]
     },
     "execution_count": 5,
     "metadata": {},
     "output_type": "execute_result"
    }
   ],
   "source": [
    "#Pandas DataFraming\n",
    "df = pd.DataFrame.from_dict(response_json['Time Series (Daily)'], orient= 'index').sort_index(axis=1)\n",
    "df"
   ]
  },
  {
   "cell_type": "code",
   "execution_count": 6,
   "metadata": {},
   "outputs": [],
   "source": [
    "df.to_csv('Nissan_all.csv')"
   ]
  },
  {
   "cell_type": "code",
   "execution_count": null,
   "metadata": {},
   "outputs": [],
   "source": []
  }
 ],
 "metadata": {
  "kernelspec": {
   "display_name": "Python 3",
   "language": "python",
   "name": "python3"
  },
  "language_info": {
   "codemirror_mode": {
    "name": "ipython",
    "version": 3
   },
   "file_extension": ".py",
   "mimetype": "text/x-python",
   "name": "python",
   "nbconvert_exporter": "python",
   "pygments_lexer": "ipython3",
   "version": "3.8.5"
  }
 },
 "nbformat": 4,
 "nbformat_minor": 4
}
