{
 "cells": [
  {
   "cell_type": "code",
   "execution_count": 3,
   "metadata": {},
   "outputs": [],
   "source": [
    "#Import Dependencies\n",
    "#from alpha_vantage.timeseries import TimeSeries\n",
    "#from API_key import api_key\n",
    "import pandas as pd\n",
    "import requests"
   ]
  },
  {
   "cell_type": "code",
   "execution_count": 4,
   "metadata": {},
   "outputs": [],
   "source": [
    "#URL Basics\n",
    "API_URL = \"https://www.alphavantage.co/query\" \n",
    "symbol = 'VLKPY'"
   ]
  },
  {
   "cell_type": "code",
   "execution_count": 5,
   "metadata": {},
   "outputs": [],
   "source": [
    "#Data Extraction\n",
    "data = { \"function\": \"TIME_SERIES_DAILY\", \n",
    "    \"symbol\": symbol,\n",
    "    \"outputsize\" : \"full\",\n",
    "    \"datatype\": \"json\", \n",
    "    \"apikey\": \"api_key\" } "
   ]
  },
  {
   "cell_type": "code",
   "execution_count": 6,
   "metadata": {},
   "outputs": [],
   "source": [
    "#URL Response JSON\n",
    "response = requests.get(API_URL, data) \n",
    "response_json = response.json() "
   ]
  },
  {
   "cell_type": "code",
   "execution_count": 7,
   "metadata": {},
   "outputs": [
    {
     "data": {
      "text/html": [
       "<div>\n",
       "<style scoped>\n",
       "    .dataframe tbody tr th:only-of-type {\n",
       "        vertical-align: middle;\n",
       "    }\n",
       "\n",
       "    .dataframe tbody tr th {\n",
       "        vertical-align: top;\n",
       "    }\n",
       "\n",
       "    .dataframe thead th {\n",
       "        text-align: right;\n",
       "    }\n",
       "</style>\n",
       "<table border=\"1\" class=\"dataframe\">\n",
       "  <thead>\n",
       "    <tr style=\"text-align: right;\">\n",
       "      <th></th>\n",
       "      <th>1. open</th>\n",
       "      <th>2. high</th>\n",
       "      <th>3. low</th>\n",
       "      <th>4. close</th>\n",
       "      <th>5. volume</th>\n",
       "    </tr>\n",
       "  </thead>\n",
       "  <tbody>\n",
       "    <tr>\n",
       "      <th>2018-08-13</th>\n",
       "      <td>33.0700</td>\n",
       "      <td>33.0700</td>\n",
       "      <td>32.1100</td>\n",
       "      <td>32.1100</td>\n",
       "      <td>1259</td>\n",
       "    </tr>\n",
       "    <tr>\n",
       "      <th>2018-08-10</th>\n",
       "      <td>32.9400</td>\n",
       "      <td>33.3900</td>\n",
       "      <td>32.6300</td>\n",
       "      <td>32.8700</td>\n",
       "      <td>32827</td>\n",
       "    </tr>\n",
       "    <tr>\n",
       "      <th>2018-08-09</th>\n",
       "      <td>34.2400</td>\n",
       "      <td>34.2400</td>\n",
       "      <td>33.9600</td>\n",
       "      <td>34.1400</td>\n",
       "      <td>7483</td>\n",
       "    </tr>\n",
       "    <tr>\n",
       "      <th>2018-08-08</th>\n",
       "      <td>34.3100</td>\n",
       "      <td>34.3600</td>\n",
       "      <td>34.1300</td>\n",
       "      <td>34.1800</td>\n",
       "      <td>11478</td>\n",
       "    </tr>\n",
       "    <tr>\n",
       "      <th>2018-08-07</th>\n",
       "      <td>34.4450</td>\n",
       "      <td>34.4450</td>\n",
       "      <td>33.9400</td>\n",
       "      <td>34.0500</td>\n",
       "      <td>16007</td>\n",
       "    </tr>\n",
       "    <tr>\n",
       "      <th>...</th>\n",
       "      <td>...</td>\n",
       "      <td>...</td>\n",
       "      <td>...</td>\n",
       "      <td>...</td>\n",
       "      <td>...</td>\n",
       "    </tr>\n",
       "    <tr>\n",
       "      <th>2007-07-20</th>\n",
       "      <td>21.5500</td>\n",
       "      <td>21.5500</td>\n",
       "      <td>21.5500</td>\n",
       "      <td>21.5500</td>\n",
       "      <td>200</td>\n",
       "    </tr>\n",
       "    <tr>\n",
       "      <th>2007-07-19</th>\n",
       "      <td>22.3000</td>\n",
       "      <td>22.3000</td>\n",
       "      <td>22.3000</td>\n",
       "      <td>22.3000</td>\n",
       "      <td>0</td>\n",
       "    </tr>\n",
       "    <tr>\n",
       "      <th>2007-07-18</th>\n",
       "      <td>22.3000</td>\n",
       "      <td>22.3000</td>\n",
       "      <td>22.3000</td>\n",
       "      <td>22.3000</td>\n",
       "      <td>0</td>\n",
       "    </tr>\n",
       "    <tr>\n",
       "      <th>2007-07-17</th>\n",
       "      <td>22.3000</td>\n",
       "      <td>22.3000</td>\n",
       "      <td>22.3000</td>\n",
       "      <td>22.3000</td>\n",
       "      <td>0</td>\n",
       "    </tr>\n",
       "    <tr>\n",
       "      <th>2007-07-16</th>\n",
       "      <td>22.3000</td>\n",
       "      <td>22.3000</td>\n",
       "      <td>22.3000</td>\n",
       "      <td>22.3000</td>\n",
       "      <td>4908</td>\n",
       "    </tr>\n",
       "  </tbody>\n",
       "</table>\n",
       "<p>2782 rows × 5 columns</p>\n",
       "</div>"
      ],
      "text/plain": [
       "            1. open  2. high   3. low 4. close 5. volume\n",
       "2018-08-13  33.0700  33.0700  32.1100  32.1100      1259\n",
       "2018-08-10  32.9400  33.3900  32.6300  32.8700     32827\n",
       "2018-08-09  34.2400  34.2400  33.9600  34.1400      7483\n",
       "2018-08-08  34.3100  34.3600  34.1300  34.1800     11478\n",
       "2018-08-07  34.4450  34.4450  33.9400  34.0500     16007\n",
       "...             ...      ...      ...      ...       ...\n",
       "2007-07-20  21.5500  21.5500  21.5500  21.5500       200\n",
       "2007-07-19  22.3000  22.3000  22.3000  22.3000         0\n",
       "2007-07-18  22.3000  22.3000  22.3000  22.3000         0\n",
       "2007-07-17  22.3000  22.3000  22.3000  22.3000         0\n",
       "2007-07-16  22.3000  22.3000  22.3000  22.3000      4908\n",
       "\n",
       "[2782 rows x 5 columns]"
      ]
     },
     "execution_count": 7,
     "metadata": {},
     "output_type": "execute_result"
    }
   ],
   "source": [
    "#Pandas DataFraming\n",
    "df = pd.DataFrame.from_dict(response_json['Time Series (Daily)'], orient= 'index').sort_index(axis=1)\n",
    "df"
   ]
  },
  {
   "cell_type": "code",
   "execution_count": 6,
   "metadata": {},
   "outputs": [],
   "source": [
    "df.to_csv('VW_all.csv')"
   ]
  },
  {
   "cell_type": "code",
   "execution_count": null,
   "metadata": {},
   "outputs": [],
   "source": []
  }
 ],
 "metadata": {
  "kernelspec": {
   "display_name": "Python 3",
   "language": "python",
   "name": "python3"
  },
  "language_info": {
   "codemirror_mode": {
    "name": "ipython",
    "version": 3
   },
   "file_extension": ".py",
   "mimetype": "text/x-python",
   "name": "python",
   "nbconvert_exporter": "python",
   "pygments_lexer": "ipython3",
   "version": "3.7.6"
  }
 },
 "nbformat": 4,
 "nbformat_minor": 4
}
