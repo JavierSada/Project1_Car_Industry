{
 "cells": [
  {
   "cell_type": "code",
   "execution_count": 1,
   "metadata": {},
   "outputs": [],
   "source": [
    "#Import Dependencies\n",
    "from alpha_vantage.timeseries import TimeSeries\n",
    "from API_key import api_key\n",
    "import pandas as pd\n",
    "import requests"
   ]
  },
  {
   "cell_type": "code",
   "execution_count": 25,
   "metadata": {},
   "outputs": [],
   "source": [
    "#URL Basics\n",
    "API_URL = \"https://www.alphavantage.co/query\" "
   ]
  },
  {
   "cell_type": "code",
   "execution_count": 26,
   "metadata": {},
   "outputs": [],
   "source": [
    "# FORD = 'F'\n",
    "# GENERAL MOTORS = 'GM'\n",
    "# NISSAN = 'NSANY'\n",
    "\n",
    "symbols = ['F', 'GM','NSANY']\n"
   ]
  },
  {
   "cell_type": "code",
   "execution_count": 20,
   "metadata": {},
   "outputs": [],
   "source": [
    "opn = []\n",
    "high = []\n",
    "low = []\n",
    "close = []\n",
    "volume = []\n",
    "name = []\n",
    "date2 = []\n",
    "\n",
    "\n",
    "for symbol in symbols:\n",
    "    #Data Extraction\n",
    "    data = { \"function\": \"TIME_SERIES_DAILY\", \n",
    "    \"symbol\": symbol,\n",
    "    \"outputsize\" : \"full\",\n",
    "    \"datatype\": \"json\", \n",
    "    \"apikey\": \"api_key\"} \n",
    "    #URL Response JSON\n",
    "    try:\n",
    "        response = requests.get(API_URL, data).json()\n",
    "        dates = list(response['Time Series (Daily)'].keys())\n",
    "        date2.extend(dates)\n",
    "        \n",
    "        for date in dates:\n",
    "            opn.append(response['Time Series (Daily)'][date]['1. open']) \n",
    "            high.append(response['Time Series (Daily)'][date]['2. high'])\n",
    "            low.append(response['Time Series (Daily)'][date]['3. low']) \n",
    "            close.append(response['Time Series (Daily)'][date]['4. close'])\n",
    "            volume.append(response['Time Series (Daily)'][date]['5. volume'])\n",
    "            name.append(response['Meta Data']['2. Symbol'])\n",
    "        print(f\"{symbol} was found\")\n",
    "    except: \n",
    "        print('    Ops symbol not found.. Skipping')"
   ]
  },
  {
   "cell_type": "code",
   "execution_count": 22,
   "metadata": {},
   "outputs": [],
   "source": [
    "df = pd.DataFrame({'name':name,'date':date2,'opn':opn, 'high':high, 'low':low,'close':close,'volume':volume })"
   ]
  },
  {
   "cell_type": "code",
   "execution_count": 24,
   "metadata": {},
   "outputs": [],
   "source": [
    "df.to_csv('cars.csv')"
   ]
  }
 ],
 "metadata": {
  "kernelspec": {
   "display_name": "Python 3",
   "language": "python",
   "name": "python3"
  },
  "language_info": {
   "codemirror_mode": {
    "name": "ipython",
    "version": 3
   },
   "file_extension": ".py",
   "mimetype": "text/x-python",
   "name": "python",
   "nbconvert_exporter": "python",
   "pygments_lexer": "ipython3",
   "version": "3.7.6"
  }
 },
 "nbformat": 4,
 "nbformat_minor": 4
}
